{
 "cells": [
  {
   "cell_type": "markdown",
   "metadata": {},
   "source": [
    "# LeetCode 56. Merge Intervals\n",
    "https://leetcode.com/problems/merge-intervals/"
   ]
  },
  {
   "cell_type": "code",
   "execution_count": null,
   "metadata": {},
   "outputs": [],
   "source": [
    "class Solution:\n",
    "    def merge(self, intervals):\n",
    "        \n",
    "        intervals = sorted(intervals, key = lambda interval: interval[0])\n",
    "        \n",
    "        if intervals == []:\n",
    "            return []\n",
    "        \n",
    "        else:\n",
    "            ans = intervals[0]\n",
    "\n",
    "            for i in range(1, len(intervals)):\n",
    "                if ans[-1] >= intervals[i][0]:\n",
    "                    if ans[-1] < intervals[i][1]:\n",
    "                        ans[-1] = intervals[i][1]\n",
    "    \n",
    "                else:\n",
    "                   ans.extend(intervals[i])\n",
    "\n",
    "            result = []\n",
    "            for i in range(0,len(ans),2):\n",
    "                result.append([ans[i], ans[i+1]])\n",
    "    \n",
    "            return result"
   ]
  },
  {
   "cell_type": "markdown",
   "metadata": {},
   "source": [
    "# LeetCode1498. Number of Subsequences That Satisfy the Given Sum Condition\n",
    "https://leetcode.com/problems/number-of-subsequences-that-satisfy-the-given-sum-condition/"
   ]
  },
  {
   "cell_type": "code",
   "execution_count": 1,
   "metadata": {},
   "outputs": [],
   "source": [
    "# Testcase 47/62 --> 걸리는 시간 더 짧게 해야함 (이진탐색 이용해볼 것!!)\n",
    "\n",
    "class Solution(object):\n",
    "    def numSubseq(self, nums, target):\n",
    "        nums = sorted(nums)\n",
    "        cnt = 0\n",
    "        \n",
    "        if len(nums)==1:\n",
    "            if (nums[0]*2 <= target):\n",
    "                cnt += 1\n",
    "        \n",
    "        else:\n",
    "            for i in range(len(nums)):\n",
    "                for j in range(i+1, len(nums)):\n",
    "                    if (nums[i] + nums[j] > target):\n",
    "                        j = j-1\n",
    "                        break\n",
    "        \n",
    "                for k in range(i+1, j+2):\n",
    "                    if (len(nums[i:k])==1):\n",
    "                        if (nums[i:k][0]*2 <= target):\n",
    "                            cnt += 1\n",
    "                    else:\n",
    "                        cnt += 2**(len(nums[i:k])-2) \n",
    "            \n",
    "        return cnt % ((10**9) + 7)"
   ]
  },
  {
   "cell_type": "markdown",
   "metadata": {},
   "source": [
    "# programmers H-index.\n",
    "https://programmers.co.kr/learn/courses/30/lessons/42747"
   ]
  },
  {
   "cell_type": "code",
   "execution_count": 2,
   "metadata": {},
   "outputs": [],
   "source": [
    "def solution(citations):\n",
    "    citations = sorted(citations)\n",
    "    \n",
    "    for citation in range(len(citations), -1, -1):\n",
    "        answer = 0\n",
    "        for i in citations:\n",
    "            if (i>=citation):\n",
    "                answer += 1\n",
    "            \n",
    "        if (answer >= citation):\n",
    "            break\n",
    "\n",
    "    return citation"
   ]
  },
  {
   "cell_type": "markdown",
   "metadata": {},
   "source": [
    "# programmers 더 맵게.\n",
    "https://programmers.co.kr/learn/courses/30/lessons/42626"
   ]
  },
  {
   "cell_type": "code",
   "execution_count": null,
   "metadata": {},
   "outputs": [],
   "source": [
    "# heap자료구조를 사용하지 않고 풀려고 시도했으나 실패 ==> 정확성 76.2, 효율성 0.0\n",
    "# heap자료구조를 이용하여 풀어보거나, 효율성 보완하는 접근 필요...\n",
    "\n",
    "def solution(scoville, K):\n",
    "    answer = 0\n",
    "    scoville = sorted(scoville)\n",
    "    while(scoville[0] < K):\n",
    "        if (len(scoville)==1):\n",
    "            answer = -1\n",
    "            break\n",
    "        tmp = scoville[0]\n",
    "        scoville.remove(scoville[0])\n",
    "        new = tmp + scoville[0] * 2\n",
    "        scoville.remove(scoville[0])\n",
    "        scoville.append(new)\n",
    "        scoville = sorted(scoville)\n",
    "        answer += 1\n",
    "\n",
    "    return answer"
   ]
  }
 ],
 "metadata": {
  "kernelspec": {
   "display_name": "Python 3",
   "language": "python",
   "name": "python3"
  },
  "language_info": {
   "codemirror_mode": {
    "name": "ipython",
    "version": 3
   },
   "file_extension": ".py",
   "mimetype": "text/x-python",
   "name": "python",
   "nbconvert_exporter": "python",
   "pygments_lexer": "ipython3",
   "version": "3.8.3"
  }
 },
 "nbformat": 4,
 "nbformat_minor": 4
}
