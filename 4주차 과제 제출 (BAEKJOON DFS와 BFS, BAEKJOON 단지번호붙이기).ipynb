{
 "cells": [
  {
   "cell_type": "markdown",
   "metadata": {},
   "source": [
    "# BAEKJOON. DFS와 BFS\n",
    "https://www.acmicpc.net/problem/1260"
   ]
  },
  {
   "cell_type": "code",
   "execution_count": 1,
   "metadata": {},
   "outputs": [
    {
     "name": "stdout",
     "output_type": "stream",
     "text": [
      "5\n",
      "5\n",
      "3\n",
      "5\n",
      "4\n",
      "5\n",
      "2\n",
      "1\n",
      "2\n",
      "3\n",
      "4\n",
      "3\n",
      "1\n"
     ]
    },
    {
     "data": {
      "text/plain": [
       "[3, 1, 4, 2, 5]"
      ]
     },
     "execution_count": 1,
     "metadata": {},
     "output_type": "execute_result"
    }
   ],
   "source": [
    "n = int(input())\n",
    "m = int(input())\n",
    "v = int(input())\n",
    "\n",
    "graph = {}\n",
    "\n",
    "for i in range(1,n+1):\n",
    "    graph['{}'.format(i)]=[]\n",
    "  \n",
    "############################ \n",
    "    \n",
    "for _ in range(m):\n",
    "    left = int(input())\n",
    "    right = int(input())\n",
    "    \n",
    "    graph['{}'.format(left)].append(right)\n",
    "    graph['{}'.format(right)].append(left)\n",
    "\n",
    "for key in graph.keys():\n",
    "    graph[key] = sorted(graph[key])\n",
    "    \n",
    "# BFS\n",
    "\n",
    "def BFS(graph, node=1):\n",
    "    result = []\n",
    "    bfs = []\n",
    "    bfs.append(node)\n",
    "    \n",
    "    while (len(bfs)!=0):\n",
    "        pop = bfs.pop(0)\n",
    "        if pop not in result:\n",
    "            result.append(pop)\n",
    "        for point in graph[str(pop)]:\n",
    "            if point not in result:\n",
    "                bfs.append(point)\n",
    "        \n",
    "    return result\n",
    "    \n",
    "BFS(graph, v)"
   ]
  },
  {
   "cell_type": "markdown",
   "metadata": {},
   "source": [
    "# BAEKJOON. 단지번호붙이기\n",
    "https://www.acmicpc.net/problem/2667"
   ]
  },
  {
   "cell_type": "code",
   "execution_count": null,
   "metadata": {},
   "outputs": [],
   "source": []
  }
 ],
 "metadata": {
  "kernelspec": {
   "display_name": "Python 3",
   "language": "python",
   "name": "python3"
  },
  "language_info": {
   "codemirror_mode": {
    "name": "ipython",
    "version": 3
   },
   "file_extension": ".py",
   "mimetype": "text/x-python",
   "name": "python",
   "nbconvert_exporter": "python",
   "pygments_lexer": "ipython3",
   "version": "3.8.5"
  }
 },
 "nbformat": 4,
 "nbformat_minor": 4
}
