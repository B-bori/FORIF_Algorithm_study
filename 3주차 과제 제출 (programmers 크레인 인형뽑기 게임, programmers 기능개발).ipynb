{
 "cells": [
  {
   "cell_type": "markdown",
   "metadata": {},
   "source": [
    "# programmers 크레인 인형뽑기 게임\n",
    "https://programmers.co.kr/learn/courses/30/lessons/64061"
   ]
  },
  {
   "cell_type": "code",
   "execution_count": 15,
   "metadata": {},
   "outputs": [],
   "source": [
    "import numpy as np\n",
    "\n",
    "def solution(board, moves):\n",
    "    board_np = np.array(board)\n",
    "\n",
    "    stacks = board_np.transpose()\n",
    "\n",
    "    result = []\n",
    "\n",
    "    stacks_list = []\n",
    "\n",
    "    for row in stacks:\n",
    "        stacks_list.append(list(row))\n",
    "\n",
    "\n",
    "    for move in moves:\n",
    "    \n",
    "        if (len(stacks_list[move-1]) != 0):\n",
    "            stack = stacks_list[move-1]\n",
    "    \n",
    "            while (0 in stack):\n",
    "               stack.remove(0)\n",
    "        \n",
    "            if (stack!=0):\n",
    "                call = stack[0]\n",
    "                stacks_list[move-1].pop(0)\n",
    "                result.append(call)   \n",
    "\n",
    "    len_before = len(result)\n",
    "                \n",
    "    def chk(L):\n",
    "        flag = 0\n",
    "        for i in range(len(L)-1):\n",
    "            if (L[i] == L[i+1]):\n",
    "                flag += 1\n",
    "                break\n",
    "        return flag\n",
    "    \n",
    "        \n",
    "    def pop_chk(L):\n",
    "        for i in range(len(L)-1):\n",
    "            if (L[i] == L[i+1]):\n",
    "                L.pop(i)\n",
    "                L.pop(i)\n",
    "                break\n",
    "    \n",
    "    while (chk(result)==1):\n",
    "        pop_chk(result)\n",
    "    \n",
    "    answer = len_before - len(result)\n",
    "\n",
    "    return answer"
   ]
  },
  {
   "cell_type": "code",
   "execution_count": 16,
   "metadata": {},
   "outputs": [
    {
     "data": {
      "text/plain": [
       "4"
      ]
     },
     "execution_count": 16,
     "metadata": {},
     "output_type": "execute_result"
    }
   ],
   "source": [
    "# 실행결과\n",
    "\n",
    "board = [[0,0,0,0,0], [0,0,1,0,3], [0,2,5,0,1], [4,2,4,4,2], [3,5,1,3,1]]\n",
    "moves = [1,5,3,5,1,2,1,4]\n",
    "\n",
    "solution(board, moves)"
   ]
  },
  {
   "cell_type": "code",
   "execution_count": null,
   "metadata": {},
   "outputs": [],
   "source": []
  },
  {
   "cell_type": "markdown",
   "metadata": {},
   "source": [
    "# programmers 기능개발\n",
    "https://programmers.co.kr/learn/courses/30/lessons/42586"
   ]
  },
  {
   "cell_type": "code",
   "execution_count": 23,
   "metadata": {},
   "outputs": [],
   "source": [
    "import math\n",
    "\n",
    "def solution(progresses, speeds):\n",
    "    days = []\n",
    "    \n",
    "    for i in range(len(progresses)):\n",
    "        day = math.ceil((100 - progresses[i])/speeds[i])\n",
    "        days.append(day)\n",
    "\n",
    "    \n",
    "    def chk(L):\n",
    "        cnt = 0\n",
    "        for i in range(len(L)):\n",
    "            if (L[0] < L[i]):\n",
    "                cnt += 1\n",
    "    \n",
    "        if (cnt==0):\n",
    "            return 0\n",
    "        else:\n",
    "            return 1\n",
    "\n",
    "    def solve(L):\n",
    "        flag = 0\n",
    "    \n",
    "        for i in range(len(L)):\n",
    "            if (L[0] < L[i]):\n",
    "                flag = i\n",
    "                break\n",
    "    \n",
    "        if (L[0] != L[i]):\n",
    "            return flag, L[i:]\n",
    "        else:\n",
    "            return flag, L[i+1:]\n",
    "    \n",
    "    ans = []\n",
    "\n",
    "\n",
    "    while (chk(days)==1):\n",
    "        ans.append(solve(days)[0])\n",
    "        days = solve(days)[1]\n",
    "\n",
    "    ans.append(len(days))\n",
    "\n",
    "    return ans"
   ]
  },
  {
   "cell_type": "code",
   "execution_count": 25,
   "metadata": {},
   "outputs": [
    {
     "data": {
      "text/plain": [
       "[1, 3]"
      ]
     },
     "execution_count": 25,
     "metadata": {},
     "output_type": "execute_result"
    }
   ],
   "source": [
    "# 실행결과\n",
    "\n",
    "# progresses = [93, 30, 55]\n",
    "# speeds = [1, 30, 5]\n",
    "\n",
    "# progresses = [ 93 , 30 , 55 , 60 ]\n",
    "# speeds = [ 1, 30 , 5 , 40 ]\n",
    "\n",
    "# progresses = [96, 99, 98, 97]\n",
    "# speeds = [1,1,1,1]\n",
    "\n",
    "progresses = [99, 1, 99, 1] \n",
    "speeds = [1, 1, 1, 1] \n",
    "\n",
    "solution(progresses, speeds)"
   ]
  }
 ],
 "metadata": {
  "kernelspec": {
   "display_name": "Python 3",
   "language": "python",
   "name": "python3"
  },
  "language_info": {
   "codemirror_mode": {
    "name": "ipython",
    "version": 3
   },
   "file_extension": ".py",
   "mimetype": "text/x-python",
   "name": "python",
   "nbconvert_exporter": "python",
   "pygments_lexer": "ipython3",
   "version": "3.8.5"
  }
 },
 "nbformat": 4,
 "nbformat_minor": 4
}
